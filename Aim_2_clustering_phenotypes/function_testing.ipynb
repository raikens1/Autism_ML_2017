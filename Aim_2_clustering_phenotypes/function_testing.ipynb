{
 "cells": [
  {
   "cell_type": "markdown",
   "metadata": {},
   "source": [
    "### Testing Functions for Cluster Validation\n",
    "\n",
    "Author: Brianna Kozemzak\n",
    "\n",
    "Last Updated: Dec 14, 2017"
   ]
  },
  {
   "cell_type": "markdown",
   "metadata": {},
   "source": [
    "### Purpose\n",
    "\n",
    "This file was created in order to test the behavior of function in edge cases."
   ]
  },
  {
   "cell_type": "code",
   "execution_count": 1,
   "metadata": {
    "collapsed": false
   },
   "outputs": [],
   "source": [
    "######################################\n",
    "## Import Libraries Used Throughout ##\n",
    "######################################\n",
    "\n",
    "import pandas as pd\n",
    "import numpy as np"
   ]
  },
  {
   "cell_type": "markdown",
   "metadata": {},
   "source": [
    "### utilities.py"
   ]
  },
  {
   "cell_type": "code",
   "execution_count": 2,
   "metadata": {
    "collapsed": true
   },
   "outputs": [],
   "source": [
    "from utilities import *"
   ]
  },
  {
   "cell_type": "code",
   "execution_count": 3,
   "metadata": {
    "collapsed": false
   },
   "outputs": [
    {
     "data": {
      "text/plain": [
       "False"
      ]
     },
     "execution_count": 3,
     "metadata": {},
     "output_type": "execute_result"
    }
   ],
   "source": [
    "#################################\n",
    "## single_cluster_membership() ##\n",
    "#################################\n",
    "\n",
    "# Create mock clusters\n",
    "clusters = [('pt_1', 1, 0, 0), \\\n",
    "        ('pt_2', 0, 1, 0), \\\n",
    "        ('pt_3', 0, 1, 1), \\\n",
    "        ('pt_4', 1, 0, 0)]\n",
    "clusters_cols = ['patient_id', 'clust0', 'clust1', 'clust2']\n",
    "clusters = pd.DataFrame(clusters, columns=clusters_cols)\n",
    "clusters = clusters.set_index('patient_id')\n",
    "\n",
    "# Call the function\n",
    "single_cluster_membership(clusters)"
   ]
  },
  {
   "cell_type": "code",
   "execution_count": 4,
   "metadata": {
    "collapsed": false
   },
   "outputs": [
    {
     "data": {
      "text/html": [
       "<div>\n",
       "<table border=\"1\" class=\"dataframe\">\n",
       "  <thead>\n",
       "    <tr style=\"text-align: right;\">\n",
       "      <th></th>\n",
       "      <th>0.0</th>\n",
       "      <th>1.0</th>\n",
       "      <th>missing</th>\n",
       "    </tr>\n",
       "  </thead>\n",
       "  <tbody>\n",
       "    <tr>\n",
       "      <th>0</th>\n",
       "      <td>0.0</td>\n",
       "      <td>2.0</td>\n",
       "      <td>0.0</td>\n",
       "    </tr>\n",
       "    <tr>\n",
       "      <th>1</th>\n",
       "      <td>1.0</td>\n",
       "      <td>0.0</td>\n",
       "      <td>1.0</td>\n",
       "    </tr>\n",
       "    <tr>\n",
       "      <th>2</th>\n",
       "      <td>1.0</td>\n",
       "      <td>0.0</td>\n",
       "      <td>0.0</td>\n",
       "    </tr>\n",
       "  </tbody>\n",
       "</table>\n",
       "</div>"
      ],
      "text/plain": [
       "   0.0  1.0  missing\n",
       "0  0.0  2.0      0.0\n",
       "1  1.0  0.0      1.0\n",
       "2  1.0  0.0      0.0"
      ]
     },
     "execution_count": 4,
     "metadata": {},
     "output_type": "execute_result"
    }
   ],
   "source": [
    "##################\n",
    "## counts_for() ##\n",
    "##################\n",
    "\n",
    "# Create mock clusters\n",
    "clusters = [('pt_1', 1, 0, 0), \\\n",
    "        ('pt_2', 0, 1, 0), \\\n",
    "        ('pt_3', 0, 1, 1), \\\n",
    "        ('pt_4', 1, 0, 0)]\n",
    "clusters_cols = ['patient_id', 'clust0', 'clust1', 'clust2']\n",
    "clusters = pd.DataFrame(clusters, columns=clusters_cols)\n",
    "clusters = clusters.set_index('patient_id')\n",
    "\n",
    "# Create mock labels\n",
    "labels = [('pt_1', 'autism', 'female', 1), \\\n",
    "        ('pt_2', 'control', 'male', np.nan), \\\n",
    "        ('pt_3', 'autism spectrum', 'male', 0), \\\n",
    "        ('pt_4', 'autism', 'female', 1)]\n",
    "labels_cols = ['patient_id', 'diagnosis', 'gender', 'behavioral_history']\n",
    "labels = pd.DataFrame(labels, columns=labels_cols)\n",
    "labels = labels.set_index('patient_id')\n",
    "\n",
    "# Call the function\n",
    "counts_for(labels['behavioral_history'], clusters)"
   ]
  },
  {
   "cell_type": "markdown",
   "metadata": {},
   "source": [
    "### soft_to_crisp_clusters.py"
   ]
  },
  {
   "cell_type": "code",
   "execution_count": 5,
   "metadata": {
    "collapsed": true
   },
   "outputs": [],
   "source": [
    "from soft_to_crisp_clusters import *"
   ]
  },
  {
   "cell_type": "code",
   "execution_count": 6,
   "metadata": {
    "collapsed": false
   },
   "outputs": [
    {
     "data": {
      "text/html": [
       "<div>\n",
       "<table border=\"1\" class=\"dataframe\">\n",
       "  <thead>\n",
       "    <tr style=\"text-align: right;\">\n",
       "      <th></th>\n",
       "      <th>clust0</th>\n",
       "      <th>clust1</th>\n",
       "      <th>clust2</th>\n",
       "    </tr>\n",
       "    <tr>\n",
       "      <th>patient_id</th>\n",
       "      <th></th>\n",
       "      <th></th>\n",
       "      <th></th>\n",
       "    </tr>\n",
       "  </thead>\n",
       "  <tbody>\n",
       "    <tr>\n",
       "      <th>pt_1</th>\n",
       "      <td>1</td>\n",
       "      <td>1</td>\n",
       "      <td>1</td>\n",
       "    </tr>\n",
       "    <tr>\n",
       "      <th>pt_2</th>\n",
       "      <td>1</td>\n",
       "      <td>1</td>\n",
       "      <td>1</td>\n",
       "    </tr>\n",
       "    <tr>\n",
       "      <th>pt_3</th>\n",
       "      <td>0</td>\n",
       "      <td>1</td>\n",
       "      <td>1</td>\n",
       "    </tr>\n",
       "    <tr>\n",
       "      <th>pt_4</th>\n",
       "      <td>1</td>\n",
       "      <td>1</td>\n",
       "      <td>1</td>\n",
       "    </tr>\n",
       "  </tbody>\n",
       "</table>\n",
       "</div>"
      ],
      "text/plain": [
       "            clust0  clust1  clust2\n",
       "patient_id                        \n",
       "pt_1             1       1       1\n",
       "pt_2             1       1       1\n",
       "pt_3             0       1       1\n",
       "pt_4             1       1       1"
      ]
     },
     "execution_count": 6,
     "metadata": {},
     "output_type": "execute_result"
    }
   ],
   "source": [
    "##############################\n",
    "## soft_to_crisp_clusters() ##\n",
    "##############################\n",
    "\n",
    "# Create mock clusters\n",
    "clusters = [('pt_1', 0.55, 0.3, 0.15), \\\n",
    "        ('pt_2', 0.5, 0.35, 0.15), \\\n",
    "        ('pt_3', 0.0, 0.4, 0.4), \\\n",
    "        ('pt_4', 0.1, 0.3, 0.6)]\n",
    "clusters_cols = ['patient_id', 'clust0', 'clust1', 'clust2']\n",
    "clusters = pd.DataFrame(clusters, columns=clusters_cols)\n",
    "clusters = clusters.set_index('patient_id')\n",
    "\n",
    "# Call the function\n",
    "soft_to_crisp_clusters(clusters, rule='multiple')"
   ]
  },
  {
   "cell_type": "markdown",
   "metadata": {},
   "source": [
    "### heatmap.py"
   ]
  },
  {
   "cell_type": "code",
   "execution_count": 7,
   "metadata": {
    "collapsed": false
   },
   "outputs": [],
   "source": [
    "from heatmap import *"
   ]
  },
  {
   "cell_type": "code",
   "execution_count": 8,
   "metadata": {
    "collapsed": false
   },
   "outputs": [
    {
     "name": "stdout",
     "output_type": "stream",
     "text": [
      "Non-numeric columns were removed from the data set\n"
     ]
    },
    {
     "data": {
      "text/html": [
       "<div>\n",
       "<table border=\"1\" class=\"dataframe\">\n",
       "  <thead>\n",
       "    <tr style=\"text-align: right;\">\n",
       "      <th></th>\n",
       "      <th>feat0</th>\n",
       "      <th>feat1</th>\n",
       "      <th>feat2</th>\n",
       "      <th>feat4</th>\n",
       "    </tr>\n",
       "    <tr>\n",
       "      <th>patient_id</th>\n",
       "      <th></th>\n",
       "      <th></th>\n",
       "      <th></th>\n",
       "      <th></th>\n",
       "    </tr>\n",
       "  </thead>\n",
       "  <tbody>\n",
       "    <tr>\n",
       "      <th>pt_1</th>\n",
       "      <td>0</td>\n",
       "      <td>4</td>\n",
       "      <td>0.3</td>\n",
       "      <td>1.0</td>\n",
       "    </tr>\n",
       "    <tr>\n",
       "      <th>pt_2</th>\n",
       "      <td>1</td>\n",
       "      <td>3</td>\n",
       "      <td>0.2</td>\n",
       "      <td>1.0</td>\n",
       "    </tr>\n",
       "    <tr>\n",
       "      <th>pt_3</th>\n",
       "      <td>0</td>\n",
       "      <td>0</td>\n",
       "      <td>0.1</td>\n",
       "      <td>0.5</td>\n",
       "    </tr>\n",
       "    <tr>\n",
       "      <th>pt_4</th>\n",
       "      <td>1</td>\n",
       "      <td>1</td>\n",
       "      <td>0.5</td>\n",
       "      <td>1.0</td>\n",
       "    </tr>\n",
       "  </tbody>\n",
       "</table>\n",
       "</div>"
      ],
      "text/plain": [
       "            feat0  feat1  feat2  feat4\n",
       "patient_id                            \n",
       "pt_1            0      4    0.3    1.0\n",
       "pt_2            1      3    0.2    1.0\n",
       "pt_3            0      0    0.1    0.5\n",
       "pt_4            1      1    0.5    1.0"
      ]
     },
     "execution_count": 8,
     "metadata": {},
     "output_type": "execute_result"
    }
   ],
   "source": [
    "####################\n",
    "## numeric_data() ##\n",
    "####################\n",
    "\n",
    "# Create mock features\n",
    "features = [('pt_1', 0, 4, 0.3, 0, 1), \\\n",
    "        ('pt_2', 1, 3, 0.2, 'hi', 1), \\\n",
    "        ('pt_3', 0, 0, 0.1, 0, 0.5), \\\n",
    "        ('pt_4', 1, 1, 0.5, 0, 1)]\n",
    "features_cols = ['patient_id', 'feat0', 'feat1', 'feat2', 'feat3', 'feat4']\n",
    "features = pd.DataFrame(features, columns=features_cols)\n",
    "features = features.set_index('patient_id')\n",
    "\n",
    "# Call the function\n",
    "numeric_data(features)"
   ]
  },
  {
   "cell_type": "code",
   "execution_count": 9,
   "metadata": {
    "collapsed": false
   },
   "outputs": [
    {
     "data": {
      "text/html": [
       "<div>\n",
       "<table border=\"1\" class=\"dataframe\">\n",
       "  <thead>\n",
       "    <tr style=\"text-align: right;\">\n",
       "      <th></th>\n",
       "      <th>cluster_id</th>\n",
       "      <th>feat0</th>\n",
       "      <th>feat1</th>\n",
       "      <th>feat2</th>\n",
       "      <th>feat3</th>\n",
       "      <th>feat4</th>\n",
       "    </tr>\n",
       "    <tr>\n",
       "      <th>patient_id</th>\n",
       "      <th></th>\n",
       "      <th></th>\n",
       "      <th></th>\n",
       "      <th></th>\n",
       "      <th></th>\n",
       "      <th></th>\n",
       "    </tr>\n",
       "  </thead>\n",
       "  <tbody>\n",
       "    <tr>\n",
       "      <th>pt_4</th>\n",
       "      <td>0</td>\n",
       "      <td>1</td>\n",
       "      <td>1</td>\n",
       "      <td>0.5</td>\n",
       "      <td>0</td>\n",
       "      <td>1.0</td>\n",
       "    </tr>\n",
       "    <tr>\n",
       "      <th>pt_1</th>\n",
       "      <td>0</td>\n",
       "      <td>0</td>\n",
       "      <td>4</td>\n",
       "      <td>0.3</td>\n",
       "      <td>0</td>\n",
       "      <td>1.0</td>\n",
       "    </tr>\n",
       "    <tr>\n",
       "      <th>pt_2</th>\n",
       "      <td>1</td>\n",
       "      <td>1</td>\n",
       "      <td>3</td>\n",
       "      <td>0.2</td>\n",
       "      <td>0</td>\n",
       "      <td>1.0</td>\n",
       "    </tr>\n",
       "    <tr>\n",
       "      <th>pt_3</th>\n",
       "      <td>2</td>\n",
       "      <td>0</td>\n",
       "      <td>0</td>\n",
       "      <td>0.1</td>\n",
       "      <td>0</td>\n",
       "      <td>0.5</td>\n",
       "    </tr>\n",
       "  </tbody>\n",
       "</table>\n",
       "</div>"
      ],
      "text/plain": [
       "            cluster_id  feat0  feat1  feat2  feat3  feat4\n",
       "patient_id                                               \n",
       "pt_4                 0      1      1    0.5      0    1.0\n",
       "pt_1                 0      0      4    0.3      0    1.0\n",
       "pt_2                 1      1      3    0.2      0    1.0\n",
       "pt_3                 2      0      0    0.1      0    0.5"
      ]
     },
     "execution_count": 9,
     "metadata": {},
     "output_type": "execute_result"
    }
   ],
   "source": [
    "#################\n",
    "## sort_data() ##\n",
    "#################\n",
    "\n",
    "# Create mock clusters\n",
    "clusters = [('pt_1', 1, 0, 0), \\\n",
    "        ('pt_2', 0, 1, 0), \\\n",
    "        ('pt_3', 0, 0, 1), \\\n",
    "        ('pt_4', 1, 0, 0)]\n",
    "clusters_cols = ['patient_id', 'clust0', 'clust1', 'clust2']\n",
    "clusters = pd.DataFrame(clusters, columns=clusters_cols)\n",
    "clusters = clusters.set_index('patient_id')\n",
    "\n",
    "# Create mock features\n",
    "features = [('pt_1', 0, 4, 0.3, 0, 1), \\\n",
    "        ('pt_2', 1, 3, 0.2, 0, 1), \\\n",
    "        ('pt_3', 0, 0, 0.1, 0, 0.5), \\\n",
    "        ('pt_4', 1, 1, 0.5, 0, 1)]\n",
    "features_cols = ['patient_id', 'feat0', 'feat1', 'feat2', 'feat3', 'feat4']\n",
    "features = pd.DataFrame(features, columns=features_cols)\n",
    "features = features.set_index('patient_id')\n",
    "\n",
    "# Call the function\n",
    "sort_data(features, sort_by=['feat1'], clusters=clusters)"
   ]
  },
  {
   "cell_type": "code",
   "execution_count": 10,
   "metadata": {
    "collapsed": false
   },
   "outputs": [
    {
     "data": {
      "text/html": [
       "<div>\n",
       "<table border=\"1\" class=\"dataframe\">\n",
       "  <thead>\n",
       "    <tr style=\"text-align: right;\">\n",
       "      <th></th>\n",
       "      <th>feat0</th>\n",
       "      <th>feat1</th>\n",
       "      <th>feat2</th>\n",
       "      <th>feat3</th>\n",
       "      <th>feat4</th>\n",
       "    </tr>\n",
       "    <tr>\n",
       "      <th>patient_id</th>\n",
       "      <th></th>\n",
       "      <th></th>\n",
       "      <th></th>\n",
       "      <th></th>\n",
       "      <th></th>\n",
       "    </tr>\n",
       "  </thead>\n",
       "  <tbody>\n",
       "    <tr>\n",
       "      <th>pt_1</th>\n",
       "      <td>0.0</td>\n",
       "      <td>1.00</td>\n",
       "      <td>0.50</td>\n",
       "      <td>0</td>\n",
       "      <td>1.0</td>\n",
       "    </tr>\n",
       "    <tr>\n",
       "      <th>pt_2</th>\n",
       "      <td>1.0</td>\n",
       "      <td>0.75</td>\n",
       "      <td>0.25</td>\n",
       "      <td>0</td>\n",
       "      <td>1.0</td>\n",
       "    </tr>\n",
       "    <tr>\n",
       "      <th>pt_3</th>\n",
       "      <td>0.0</td>\n",
       "      <td>0.00</td>\n",
       "      <td>0.00</td>\n",
       "      <td>0</td>\n",
       "      <td>0.0</td>\n",
       "    </tr>\n",
       "    <tr>\n",
       "      <th>pt_4</th>\n",
       "      <td>1.0</td>\n",
       "      <td>0.25</td>\n",
       "      <td>1.00</td>\n",
       "      <td>0</td>\n",
       "      <td>1.0</td>\n",
       "    </tr>\n",
       "  </tbody>\n",
       "</table>\n",
       "</div>"
      ],
      "text/plain": [
       "            feat0  feat1  feat2  feat3  feat4\n",
       "patient_id                                   \n",
       "pt_1          0.0   1.00   0.50      0    1.0\n",
       "pt_2          1.0   0.75   0.25      0    1.0\n",
       "pt_3          0.0   0.00   0.00      0    0.0\n",
       "pt_4          1.0   0.25   1.00      0    1.0"
      ]
     },
     "execution_count": 10,
     "metadata": {},
     "output_type": "execute_result"
    }
   ],
   "source": [
    "##################\n",
    "## scale_data() ##\n",
    "##################\n",
    "\n",
    "# Create mock features\n",
    "features = [('pt_1', 0, 4, 0.3, 0, 1), \\\n",
    "        ('pt_2', 1, 3, 0.2, 0, 1), \\\n",
    "        ('pt_3', 0, 0, 0.1, 0, 0.5), \\\n",
    "        ('pt_4', 1, 1, 0.5, 0, 1)]\n",
    "features_cols = ['patient_id', 'feat0', 'feat1', 'feat2', 'feat3', 'feat4']\n",
    "features = pd.DataFrame(features, columns=features_cols)\n",
    "features = features.set_index('patient_id')\n",
    "\n",
    "# Call the function\n",
    "scale_data(features)"
   ]
  },
  {
   "cell_type": "code",
   "execution_count": 11,
   "metadata": {
    "collapsed": false
   },
   "outputs": [
    {
     "data": {
      "image/png": "[encoded data removed]",
      "text/plain": [
       "<matplotlib.figure.Figure at 0x2aebcc4425d0>"
      ]
     },
     "metadata": {},
     "output_type": "display_data"
    }
   ],
   "source": [
    "#######################\n",
    "## display_heatmap() ##\n",
    "#######################\n",
    "\n",
    "# Create mock features\n",
    "features = [('pt_1', 0, 4, 0.3, 0, 1), \\\n",
    "        ('pt_2', 1, 3, 0.2, 0, 1), \\\n",
    "        ('pt_3', 0, 0, 0.1, 0, 0.5), \\\n",
    "        ('pt_4', 1, 1, 0.5, 0, 1)]\n",
    "features_cols = ['patient_id', 'feat0', 'feat1', 'feat2', 'feat3', 'feat4']\n",
    "features = pd.DataFrame(features, columns=features_cols)\n",
    "features = features.set_index('patient_id')\n",
    "\n",
    "# Call the function\n",
    "display_heatmap(features, size=(6,5))"
   ]
  },
  {
   "cell_type": "code",
   "execution_count": 12,
   "metadata": {
    "collapsed": false
   },
   "outputs": [
    {
     "data": {
      "image/png": "[encoded data removed]",
      "text/plain": [
       "<matplotlib.figure.Figure at 0x2aebcc442610>"
      ]
     },
     "metadata": {},
     "output_type": "display_data"
    }
   ],
   "source": [
    "########################\n",
    "## heatmap_pipeline() ##\n",
    "########################\n",
    "\n",
    "# Create mock cluster\n",
    "clusters = [('pt_1', 1, 0, 0), \\\n",
    "        ('pt_2', 0, 1, 0), \\\n",
    "        ('pt_3', 0, 0, 1), \\\n",
    "        ('pt_4', 1, 0, 0)]\n",
    "clusters_cols = ['patient_id', 'clust0', 'clust1', 'clust2']\n",
    "clusters = pd.DataFrame(clusters, columns=clusters_cols)\n",
    "clusters = clusters.set_index('patient_id')\n",
    "\n",
    "# Create mock features\n",
    "features = [('pt_1', 0, 4, 0.3, 0, 1), \\\n",
    "        ('pt_2', 1, 3, 0.2, 0, 1), \\\n",
    "        ('pt_3', 0, 0, 0.1, 0, 0.5), \\\n",
    "        ('pt_4', 1, 1, 0.5, 0, 1)]\n",
    "features_cols = ['patient_id', 'feat0', 'feat1', 'feat2', 'feat3', 'feat4']\n",
    "features = pd.DataFrame(features, columns=features_cols)\n",
    "features = features.set_index('patient_id')\n",
    "\n",
    "# Call the function\n",
    "heatmap_pipeline(features, sort_by=['feat1'], clusters=clusters, size=(8,5))"
   ]
  },
  {
   "cell_type": "markdown",
   "metadata": {},
   "source": [
    "### Testing pie_charts.py"
   ]
  },
  {
   "cell_type": "code",
   "execution_count": 13,
   "metadata": {
    "collapsed": false
   },
   "outputs": [],
   "source": [
    "from pie_charts import *"
   ]
  },
  {
   "cell_type": "code",
   "execution_count": 14,
   "metadata": {
    "collapsed": false
   },
   "outputs": [
    {
     "data": {
      "image/png": "[encoded data removed]",
      "text/plain": [
       "<matplotlib.figure.Figure at 0x2aebd81cccd0>"
      ]
     },
     "metadata": {},
     "output_type": "display_data"
    }
   ],
   "source": [
    "#########################\n",
    "## display_pie_chart() ##\n",
    "#########################\n",
    "\n",
    "# Create mock clusters\n",
    "clusters = [('pt_1', 1, 0, 0), \\\n",
    "        ('pt_2', 0, 1, 0), \\\n",
    "        ('pt_3', 0, 0, 1), \\\n",
    "        ('pt_4', 0, 1, 0)]\n",
    "clusters_cols = ['patient_id', 'clust0', 'clust1', 'clust2']\n",
    "clusters = pd.DataFrame(clusters, columns=clusters_cols)\n",
    "clusters = clusters.set_index('patient_id')\n",
    "\n",
    "# Create mock labels\n",
    "labels = [('pt_1', 'autism', 'male', 'white'), \\\n",
    "        ('pt_2', 'control', 'female', 'missing'), \\\n",
    "        ('pt_3', 'autism spectrum', 'female', 'white'), \\\n",
    "        ('pt_4', 'autism', 'female', 'asian')]\n",
    "labels_cols = ['patient_id', 'diagnosis', 'gender', 'race']\n",
    "labels = pd.DataFrame(labels, columns=labels_cols)\n",
    "labels = labels.set_index('patient_id')\n",
    "\n",
    "# Get mock counts\n",
    "counts = counts_for(labels['diagnosis'], clusters)\n",
    "\n",
    "# Call the function\n",
    "display_pie_chart('diagnosis', counts)"
   ]
  },
  {
   "cell_type": "code",
   "execution_count": 15,
   "metadata": {
    "collapsed": false
   },
   "outputs": [
    {
     "data": {
      "image/png": "[encoded data removed]",
      "text/plain": [
       "<matplotlib.figure.Figure at 0x2aeb58f74b50>"
      ]
     },
     "metadata": {},
     "output_type": "display_data"
    },
    {
     "data": {
      "image/png": "[encoded data removed]",
      "text/plain": [
       "<matplotlib.figure.Figure at 0x2aebd85468d0>"
      ]
     },
     "metadata": {},
     "output_type": "display_data"
    },
    {
     "data": {
      "image/png": "[encoded data removed]",
      "text/plain": [
       "<matplotlib.figure.Figure at 0x2aebd8135550>"
      ]
     },
     "metadata": {},
     "output_type": "display_data"
    }
   ],
   "source": [
    "###########################\n",
    "## pie_charts_pipeline() ##\n",
    "###########################\n",
    "\n",
    "# Create mock clusters\n",
    "clusters = [('pt_1', 1, 0, 0), \\\n",
    "        ('pt_2', 0, 1, 0), \\\n",
    "        ('pt_3', 0, 0, 1), \\\n",
    "        ('pt_4', 1, 0, 0)]\n",
    "clusters_cols = ['patient_id', 'clust0', 'clust1', 'clust2']\n",
    "clusters = pd.DataFrame(clusters, columns=clusters_cols)\n",
    "clusters = clusters.set_index('patient_id')\n",
    "\n",
    "# Create mock labels\n",
    "labels = [('pt_1', 'autism', 'male', 'white'), \\\n",
    "        ('pt_2', 'control', 'female', 'missing'), \\\n",
    "        ('pt_3', 'autism spectrum', 'female', 'white'), \\\n",
    "        ('pt_4', 'autism', 'female', 'asian')]\n",
    "labels_cols = ['patient_id', 'diagnosis', 'gender', 'race']\n",
    "labels = pd.DataFrame(labels, columns=labels_cols)\n",
    "labels = labels.set_index('patient_id')\n",
    "\n",
    "# Call the function\n",
    "pie_charts_pipeline(labels, clusters)"
   ]
  },
  {
   "cell_type": "markdown",
   "metadata": {},
   "source": [
    "### Testing crisp_label_enrichment.py"
   ]
  },
  {
   "cell_type": "code",
   "execution_count": 16,
   "metadata": {
    "collapsed": false
   },
   "outputs": [],
   "source": [
    "from crisp_label_enrichment import *"
   ]
  },
  {
   "cell_type": "code",
   "execution_count": 17,
   "metadata": {
    "collapsed": false
   },
   "outputs": [
    {
     "data": {
      "text/html": [
       "<div>\n",
       "<table border=\"1\" class=\"dataframe\">\n",
       "  <thead>\n",
       "    <tr style=\"text-align: right;\">\n",
       "      <th></th>\n",
       "      <th>label</th>\n",
       "      <th>label_value</th>\n",
       "      <th>cluster</th>\n",
       "      <th>adjusted_p_value</th>\n",
       "      <th>significant</th>\n",
       "    </tr>\n",
       "  </thead>\n",
       "  <tbody>\n",
       "    <tr>\n",
       "      <th>0</th>\n",
       "      <td>gender</td>\n",
       "      <td>female</td>\n",
       "      <td>0</td>\n",
       "      <td>0.500000</td>\n",
       "      <td>0</td>\n",
       "    </tr>\n",
       "    <tr>\n",
       "      <th>1</th>\n",
       "      <td>gender</td>\n",
       "      <td>female</td>\n",
       "      <td>1</td>\n",
       "      <td>0.000000</td>\n",
       "      <td>1</td>\n",
       "    </tr>\n",
       "    <tr>\n",
       "      <th>2</th>\n",
       "      <td>gender</td>\n",
       "      <td>female</td>\n",
       "      <td>2</td>\n",
       "      <td>0.000000</td>\n",
       "      <td>1</td>\n",
       "    </tr>\n",
       "    <tr>\n",
       "      <th>3</th>\n",
       "      <td>gender</td>\n",
       "      <td>male</td>\n",
       "      <td>0</td>\n",
       "      <td>0.000000</td>\n",
       "      <td>1</td>\n",
       "    </tr>\n",
       "    <tr>\n",
       "      <th>4</th>\n",
       "      <td>gender</td>\n",
       "      <td>male</td>\n",
       "      <td>1</td>\n",
       "      <td>0.352941</td>\n",
       "      <td>1</td>\n",
       "    </tr>\n",
       "    <tr>\n",
       "      <th>5</th>\n",
       "      <td>gender</td>\n",
       "      <td>male</td>\n",
       "      <td>2</td>\n",
       "      <td>0.352941</td>\n",
       "      <td>1</td>\n",
       "    </tr>\n",
       "    <tr>\n",
       "      <th>6</th>\n",
       "      <td>race</td>\n",
       "      <td>asian</td>\n",
       "      <td>0</td>\n",
       "      <td>0.000000</td>\n",
       "      <td>1</td>\n",
       "    </tr>\n",
       "    <tr>\n",
       "      <th>7</th>\n",
       "      <td>race</td>\n",
       "      <td>asian</td>\n",
       "      <td>1</td>\n",
       "      <td>0.352941</td>\n",
       "      <td>1</td>\n",
       "    </tr>\n",
       "    <tr>\n",
       "      <th>8</th>\n",
       "      <td>race</td>\n",
       "      <td>asian</td>\n",
       "      <td>2</td>\n",
       "      <td>0.352941</td>\n",
       "      <td>1</td>\n",
       "    </tr>\n",
       "    <tr>\n",
       "      <th>9</th>\n",
       "      <td>race</td>\n",
       "      <td>missing</td>\n",
       "      <td>0</td>\n",
       "      <td>0.500000</td>\n",
       "      <td>0</td>\n",
       "    </tr>\n",
       "    <tr>\n",
       "      <th>10</th>\n",
       "      <td>race</td>\n",
       "      <td>missing</td>\n",
       "      <td>1</td>\n",
       "      <td>0.000000</td>\n",
       "      <td>1</td>\n",
       "    </tr>\n",
       "    <tr>\n",
       "      <th>11</th>\n",
       "      <td>race</td>\n",
       "      <td>missing</td>\n",
       "      <td>2</td>\n",
       "      <td>0.352941</td>\n",
       "      <td>1</td>\n",
       "    </tr>\n",
       "    <tr>\n",
       "      <th>12</th>\n",
       "      <td>race</td>\n",
       "      <td>white</td>\n",
       "      <td>0</td>\n",
       "      <td>0.352941</td>\n",
       "      <td>1</td>\n",
       "    </tr>\n",
       "    <tr>\n",
       "      <th>13</th>\n",
       "      <td>race</td>\n",
       "      <td>white</td>\n",
       "      <td>1</td>\n",
       "      <td>0.500000</td>\n",
       "      <td>0</td>\n",
       "    </tr>\n",
       "    <tr>\n",
       "      <th>14</th>\n",
       "      <td>race</td>\n",
       "      <td>white</td>\n",
       "      <td>2</td>\n",
       "      <td>0.000000</td>\n",
       "      <td>1</td>\n",
       "    </tr>\n",
       "    <tr>\n",
       "      <th>15</th>\n",
       "      <td>diagnosis</td>\n",
       "      <td>autism</td>\n",
       "      <td>0</td>\n",
       "      <td>0.000000</td>\n",
       "      <td>1</td>\n",
       "    </tr>\n",
       "    <tr>\n",
       "      <th>16</th>\n",
       "      <td>diagnosis</td>\n",
       "      <td>autism</td>\n",
       "      <td>1</td>\n",
       "      <td>0.500000</td>\n",
       "      <td>0</td>\n",
       "    </tr>\n",
       "    <tr>\n",
       "      <th>17</th>\n",
       "      <td>diagnosis</td>\n",
       "      <td>autism</td>\n",
       "      <td>2</td>\n",
       "      <td>0.500000</td>\n",
       "      <td>0</td>\n",
       "    </tr>\n",
       "    <tr>\n",
       "      <th>18</th>\n",
       "      <td>diagnosis</td>\n",
       "      <td>autism spectrum</td>\n",
       "      <td>0</td>\n",
       "      <td>0.500000</td>\n",
       "      <td>0</td>\n",
       "    </tr>\n",
       "    <tr>\n",
       "      <th>19</th>\n",
       "      <td>diagnosis</td>\n",
       "      <td>autism spectrum</td>\n",
       "      <td>1</td>\n",
       "      <td>0.352941</td>\n",
       "      <td>1</td>\n",
       "    </tr>\n",
       "    <tr>\n",
       "      <th>20</th>\n",
       "      <td>diagnosis</td>\n",
       "      <td>autism spectrum</td>\n",
       "      <td>2</td>\n",
       "      <td>0.000000</td>\n",
       "      <td>1</td>\n",
       "    </tr>\n",
       "    <tr>\n",
       "      <th>21</th>\n",
       "      <td>diagnosis</td>\n",
       "      <td>control</td>\n",
       "      <td>0</td>\n",
       "      <td>0.500000</td>\n",
       "      <td>0</td>\n",
       "    </tr>\n",
       "    <tr>\n",
       "      <th>22</th>\n",
       "      <td>diagnosis</td>\n",
       "      <td>control</td>\n",
       "      <td>1</td>\n",
       "      <td>0.000000</td>\n",
       "      <td>1</td>\n",
       "    </tr>\n",
       "    <tr>\n",
       "      <th>23</th>\n",
       "      <td>diagnosis</td>\n",
       "      <td>control</td>\n",
       "      <td>2</td>\n",
       "      <td>0.352941</td>\n",
       "      <td>1</td>\n",
       "    </tr>\n",
       "  </tbody>\n",
       "</table>\n",
       "</div>"
      ],
      "text/plain": [
       "        label      label_value  cluster  adjusted_p_value  significant\n",
       "0      gender           female        0          0.500000            0\n",
       "1      gender           female        1          0.000000            1\n",
       "2      gender           female        2          0.000000            1\n",
       "3      gender             male        0          0.000000            1\n",
       "4      gender             male        1          0.352941            1\n",
       "5      gender             male        2          0.352941            1\n",
       "6        race            asian        0          0.000000            1\n",
       "7        race            asian        1          0.352941            1\n",
       "8        race            asian        2          0.352941            1\n",
       "9        race          missing        0          0.500000            0\n",
       "10       race          missing        1          0.000000            1\n",
       "11       race          missing        2          0.352941            1\n",
       "12       race            white        0          0.352941            1\n",
       "13       race            white        1          0.500000            0\n",
       "14       race            white        2          0.000000            1\n",
       "15  diagnosis           autism        0          0.000000            1\n",
       "16  diagnosis           autism        1          0.500000            0\n",
       "17  diagnosis           autism        2          0.500000            0\n",
       "18  diagnosis  autism spectrum        0          0.500000            0\n",
       "19  diagnosis  autism spectrum        1          0.352941            1\n",
       "20  diagnosis  autism spectrum        2          0.000000            1\n",
       "21  diagnosis          control        0          0.500000            0\n",
       "22  diagnosis          control        1          0.000000            1\n",
       "23  diagnosis          control        2          0.352941            1"
      ]
     },
     "execution_count": 17,
     "metadata": {},
     "output_type": "execute_result"
    }
   ],
   "source": [
    "##############################\n",
    "## crisp_label_enrichment() ##\n",
    "##############################\n",
    "\n",
    "# Create mock clusters\n",
    "clusters = [('pt_1', 1, 0, 0), \\\n",
    "        ('pt_2', 0, 1, 0), \\\n",
    "        ('pt_3', 0, 0, 1), \\\n",
    "        ('pt_4', 1, 0, 0)]\n",
    "clusters_cols = ['patient_id', 'clust0', 'clust1', 'clust2']\n",
    "clusters = pd.DataFrame(clusters, columns=clusters_cols)\n",
    "clusters = clusters.set_index('patient_id')\n",
    "\n",
    "# Create mock labels\n",
    "labels = [('pt_1', 'autism', 'male', 'white'), \\\n",
    "        ('pt_2', 'control', 'female', 'missing'), \\\n",
    "        ('pt_3', 'autism spectrum', 'female', 'white'), \\\n",
    "        ('pt_4', 'autism', 'female', 'asian')]\n",
    "labels_cols = ['patient_id', 'diagnosis', 'gender', 'race']\n",
    "labels = pd.DataFrame(labels, columns=labels_cols)\n",
    "labels = labels.set_index('patient_id')\n",
    "\n",
    "# Call the function\n",
    "crisp_label_enrichment(labels, clusters, alpha=0.4)"
   ]
  },
  {
   "cell_type": "markdown",
   "metadata": {},
   "source": [
    "### Testing visualize_movement.py"
   ]
  },
  {
   "cell_type": "code",
   "execution_count": 18,
   "metadata": {
    "collapsed": true
   },
   "outputs": [],
   "source": [
    "from visualize_movement import *"
   ]
  },
  {
   "cell_type": "code",
   "execution_count": 19,
   "metadata": {
    "collapsed": false
   },
   "outputs": [
    {
     "data": {
      "text/html": [
       "<div>\n",
       "<table border=\"1\" class=\"dataframe\">\n",
       "  <thead>\n",
       "    <tr style=\"text-align: right;\">\n",
       "      <th></th>\n",
       "      <th>2</th>\n",
       "      <th>3</th>\n",
       "      <th>4</th>\n",
       "    </tr>\n",
       "    <tr>\n",
       "      <th>patient_id</th>\n",
       "      <th></th>\n",
       "      <th></th>\n",
       "      <th></th>\n",
       "    </tr>\n",
       "  </thead>\n",
       "  <tbody>\n",
       "    <tr>\n",
       "      <th>pt_1</th>\n",
       "      <td>0</td>\n",
       "      <td>0</td>\n",
       "      <td>0</td>\n",
       "    </tr>\n",
       "    <tr>\n",
       "      <th>pt_2</th>\n",
       "      <td>1</td>\n",
       "      <td>1</td>\n",
       "      <td>3</td>\n",
       "    </tr>\n",
       "    <tr>\n",
       "      <th>pt_3</th>\n",
       "      <td>0</td>\n",
       "      <td>2</td>\n",
       "      <td>2</td>\n",
       "    </tr>\n",
       "    <tr>\n",
       "      <th>pt_4</th>\n",
       "      <td>0</td>\n",
       "      <td>0</td>\n",
       "      <td>0</td>\n",
       "    </tr>\n",
       "  </tbody>\n",
       "</table>\n",
       "</div>"
      ],
      "text/plain": [
       "            2  3  4\n",
       "patient_id         \n",
       "pt_1        0  0  0\n",
       "pt_2        1  1  3\n",
       "pt_3        0  2  2\n",
       "pt_4        0  0  0"
      ]
     },
     "execution_count": 19,
     "metadata": {},
     "output_type": "execute_result"
    }
   ],
   "source": [
    "#######################\n",
    "## get_memberships() ##\n",
    "#######################\n",
    "\n",
    "# Create mock cluster result a\n",
    "clusters_a = [('pt_1', 1, 0, 0), \\\n",
    "        ('pt_2', 0, 1, 0), \\\n",
    "        ('pt_3', 0, 0, 1), \\\n",
    "        ('pt_4', 1, 0, 0)]\n",
    "clusters_a_cols = ['patient_id', 'clust0', 'clust1', 'clust2']\n",
    "clusters_a = pd.DataFrame(clusters_a, columns=clusters_a_cols)\n",
    "clusters_a = clusters_a.set_index('patient_id')\n",
    "\n",
    "# Create mock cluster result b\n",
    "clusters_b = [('pt_1', 1, 0), \\\n",
    "        ('pt_2', 0, 1), \\\n",
    "        ('pt_3', 1, 0), \\\n",
    "        ('pt_4', 1, 0)]\n",
    "clusters_b_cols = ['patient_id', 'clust0', 'clust1']\n",
    "clusters_b = pd.DataFrame(clusters_b, columns=clusters_b_cols)\n",
    "clusters_b = clusters_b.set_index('patient_id')\n",
    "\n",
    "# Create mock cluster result c\n",
    "clusters_c = [('pt_1', 1, 0, 0, 0), \\\n",
    "        ('pt_2', 0, 0, 0, 1), \\\n",
    "        ('pt_3', 0, 0, 1, 0), \\\n",
    "        ('pt_4', 1, 0, 0, 0)]\n",
    "clusters_c_cols = ['patient_id', 'clust0', 'clust1', 'clust2', 'clust3']\n",
    "clusters_c = pd.DataFrame(clusters_c, columns=clusters_c_cols)\n",
    "clusters_c = clusters_c.set_index('patient_id')\n",
    "\n",
    "# Create set of clustering results\n",
    "all_clusters = [clusters_a, clusters_b, clusters_c]\n",
    "\n",
    "# Call the function\n",
    "get_memberships(all_clusters)"
   ]
  },
  {
   "cell_type": "code",
   "execution_count": 20,
   "metadata": {
    "collapsed": false
   },
   "outputs": [
    {
     "data": {
      "image/png": "[encoded data removed]",
      "text/plain": [
       "<matplotlib.figure.Figure at 0x2aebd8171f50>"
      ]
     },
     "metadata": {},
     "output_type": "display_data"
    },
    {
     "data": {
      "image/png": "[encoded data removed]",
      "text/plain": [
       "<matplotlib.figure.Figure at 0x2aebd88bf510>"
      ]
     },
     "metadata": {},
     "output_type": "display_data"
    }
   ],
   "source": [
    "########################\n",
    "## display_movement() ##\n",
    "########################\n",
    "\n",
    "# Create mock memberships\n",
    "memberships = [('pt_1', 1, 2, 0), \\\n",
    "        ('pt_2', 0, 1, 3), \\\n",
    "        ('pt_3', 0, 2, 1), \\\n",
    "        ('pt_4', 1, 0, 4)]\n",
    "memberships_cols = ['patient_id', 2, 3, 4]\n",
    "memberships = pd.DataFrame(memberships, columns=memberships_cols)\n",
    "memberships = memberships.set_index('patient_id')\n",
    "\n",
    "# Make list of corresponding k_values\n",
    "k_values = [2, 3, 4]\n",
    "\n",
    "# Call the function\n",
    "display_movement(memberships, k_values)"
   ]
  },
  {
   "cell_type": "code",
   "execution_count": 21,
   "metadata": {
    "collapsed": false
   },
   "outputs": [
    {
     "data": {
      "image/png": "[encoded data removed]",
      "text/plain": [
       "<matplotlib.figure.Figure at 0x2aebd8348910>"
      ]
     },
     "metadata": {},
     "output_type": "display_data"
    },
    {
     "data": {
      "image/png": "[encoded data removed]",
      "text/plain": [
       "<matplotlib.figure.Figure at 0x2aebd83582d0>"
      ]
     },
     "metadata": {},
     "output_type": "display_data"
    }
   ],
   "source": [
    "###################################\n",
    "## visualize_movement_pipeline() ##\n",
    "###################################\n",
    "\n",
    "# Create mock cluster result a\n",
    "clusters_a = [('pt_1', 1, 0), \\\n",
    "        ('pt_2', 0, 1), \\\n",
    "        ('pt_3', 1, 0), \\\n",
    "        ('pt_4', 1, 0)]\n",
    "clusters_a_cols = ['patient_id', 'clust0', 'clust1']\n",
    "clusters_a = pd.DataFrame(clusters_a, columns=clusters_a_cols)\n",
    "clusters_a = clusters_a.set_index('patient_id')\n",
    "\n",
    "# Create mock cluster result b\n",
    "clusters_b = [('pt_1', 1, 0, 0), \\\n",
    "        ('pt_2', 0, 1, 0), \\\n",
    "        ('pt_3', 0, 0, 1), \\\n",
    "        ('pt_4', 1, 0, 0)]\n",
    "clusters_b_cols = ['patient_id', 'clust0', 'clust1', 'clust2']\n",
    "clusters_b = pd.DataFrame(clusters_b, columns=clusters_b_cols)\n",
    "clusters_b = clusters_b.set_index('patient_id')\n",
    "\n",
    "# Create mock cluster result c\n",
    "clusters_c = [('pt_1', 1, 0, 0, 0), \\\n",
    "        ('pt_2', 0, 0, 0, 1), \\\n",
    "        ('pt_3', 0, 0, 1, 0), \\\n",
    "        ('pt_4', 1, 0, 0, 0)]\n",
    "clusters_c_cols = ['patient_id', 'clust0', 'clust1', 'clust2', 'clust3']\n",
    "clusters_c = pd.DataFrame(clusters_c, columns=clusters_c_cols)\n",
    "clusters_c = clusters_c.set_index('patient_id')\n",
    "\n",
    "# Create set of clustering results\n",
    "all_clusters = [clusters_a, clusters_b, clusters_c]\n",
    "\n",
    "# Call the function\n",
    "visualize_movement_pipeline(all_clusters)"
   ]
  }
 ],
 "metadata": {
  "kernelspec": {
   "display_name": "Python 2",
   "language": "python",
   "name": "python2"
  },
  "language_info": {
   "codemirror_mode": {
    "name": "ipython",
    "version": 2
   },
   "file_extension": ".py",
   "mimetype": "text/x-python",
   "name": "python",
   "nbconvert_exporter": "python",
   "pygments_lexer": "ipython2",
   "version": "2.7.13"
  }
 },
 "nbformat": 4,
 "nbformat_minor": 2
}
